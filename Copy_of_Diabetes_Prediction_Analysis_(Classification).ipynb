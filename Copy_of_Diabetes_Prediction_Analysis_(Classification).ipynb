{
  "metadata": {
    "kernelspec": {
      "language": "python",
      "display_name": "Python 3",
      "name": "python3"
    },
    "language_info": {
      "name": "python",
      "version": "3.11.11",
      "mimetype": "text/x-python",
      "codemirror_mode": {
        "name": "ipython",
        "version": 3
      },
      "pygments_lexer": "ipython3",
      "nbconvert_exporter": "python",
      "file_extension": ".py"
    },
    "kaggle": {
      "accelerator": "none",
      "dataSources": [
        {
          "sourceId": 11120427,
          "sourceType": "datasetVersion",
          "datasetId": 6934503
        }
      ],
      "dockerImageVersionId": 31012,
      "isInternetEnabled": true,
      "language": "python",
      "sourceType": "notebook",
      "isGpuEnabled": false
    },
    "colab": {
      "provenance": [],
      "include_colab_link": true
    }
  },
  "nbformat_minor": 0,
  "nbformat": 4,
  "cells": [
    {
      "cell_type": "markdown",
      "metadata": {
        "id": "view-in-github",
        "colab_type": "text"
      },
      "source": [
        "<a href=\"https://colab.research.google.com/github/guycoding/ML-diabetes/blob/main/Copy_of_Diabetes_Prediction_Analysis_(Classification).ipynb\" target=\"_parent\"><img src=\"https://colab.research.google.com/assets/colab-badge.svg\" alt=\"Open In Colab\"/></a>"
      ]
    },
    {
      "source": [
        "# IMPORTANT: RUN THIS CELL IN ORDER TO IMPORT YOUR KAGGLE DATA SOURCES,\n",
        "# THEN FEEL FREE TO DELETE THIS CELL.\n",
        "# NOTE: THIS NOTEBOOK ENVIRONMENT DIFFERS FROM KAGGLE'S PYTHON\n",
        "# ENVIRONMENT SO THERE MAY BE MISSING LIBRARIES USED BY YOUR\n",
        "# NOTEBOOK.\n",
        "import kagglehub\n",
        "marshalpatel3558_diabetes_prediction_dataset_path = kagglehub.dataset_download('marshalpatel3558/diabetes-prediction-dataset')\n",
        "\n",
        "print('Data source import complete.')\n"
      ],
      "metadata": {
        "id": "fTURyMHA5Iu7"
      },
      "cell_type": "code",
      "outputs": [],
      "execution_count": null
    },
    {
      "cell_type": "markdown",
      "source": [
        "# Diabetes Prediction Analysis"
      ],
      "metadata": {
        "id": "FIWqPWoh5Iu-"
      }
    },
    {
      "cell_type": "markdown",
      "source": [
        "In this project we are analysing the Health data of people and trying to predict the probability of getting Diabetes. Diabetes, also known as diabetes mellitus, is a group of common endocrine diseases characterized by sustained high blood sugar levels. Diabetes is due to either the pancreas not producing enough of the hormone insulin, or the cells of the body becoming unresponsive to insulin's effects. Classic symptoms include polydipsia (excessive thirst), polyuria (excessive urination), polyphagia (excessive hunger), weight loss, and blurred vision. If left untreated, the disease can lead to various health complications, including disorders of the cardiovascular system, eye, kidney, and nerves. Diabetes accounts for approximately 4.2 million deaths every year, with an estimated 1.5 million caused by either untreated or poorly treated diabetes."
      ],
      "metadata": {
        "id": "_ZTlnzHW5Iu_"
      }
    },
    {
      "cell_type": "markdown",
      "source": [
        "The number of people diagnosed as living with diabetes has increased sharply in recent decades, from 200 million in 1990 to 830 million by 2022.  It affects one in seven of the adult population, with type 2 diabetes accounting for more than 95% of cases. These numbers have already risen beyond earlier projections of 783 million adults by 2045. The prevalence of the disease continues to increase, most dramatically in low- and middle-income nations. Rates are similar in women and men, with diabetes being the seventh leading cause of death globally. The global expenditure on diabetes-related healthcare is an estimated US$760 billion a year."
      ],
      "metadata": {
        "id": "bIxVvawL5IvA"
      }
    },
    {
      "cell_type": "markdown",
      "source": [
        "So it is important to find out Diabetes and treat it early. So we are analysing the data and trying to predict the possibility and finally it can be given proper treatment. This is an classification problem."
      ],
      "metadata": {
        "id": "bXspRpqp5IvA"
      }
    },
    {
      "cell_type": "markdown",
      "source": [
        "## About the Dataset"
      ],
      "metadata": {
        "id": "wqn10rmv5IvA"
      }
    },
    {
      "cell_type": "markdown",
      "source": [
        "The provided dataset contains information related to diabetes risk factors and associated health metrics. This data is real-world data scrapped using Perplexity AI.  Below is a detailed description of the dataset:"
      ],
      "metadata": {
        "id": "odaROteb5IvA"
      }
    },
    {
      "cell_type": "markdown",
      "source": [
        "| **Column Name**                      | **Type**       | **Description**                                                                 |\n",
        "|-------------------------------------|----------------|---------------------------------------------------------------------------------|\n",
        "| Age                                 | Numerical      | Age of the individual in years.                                                |\n",
        "| Sex                                 | Categorical    | Gender of the individual (e.g., Male, Female).                                 |\n",
        "| Ethnicity                           | Categorical    | Ethnic background (e.g., White, Asian, Black, Hispanic).                       |\n",
        "| BMI (Body Mass Index)               | Numerical      | A measure of body fat based on weight and height.                              |\n",
        "| Waist Circumference                 | Numerical      | Measurement of waist size in centimeters.                                      |\n",
        "| Fasting Blood Glucose               | Numerical      | Blood glucose levels after fasting, measured in mg/dL.                         |\n",
        "| HbA1c                               | Numerical      | Glycated hemoglobin percentage, indicating average blood sugar levels.         |\n",
        "| Blood Pressure Systolic             | Numerical      | Systolic blood pressure (top number), measured in mmHg.                        |\n",
        "| Blood Pressure Diastolic            | Numerical      | Diastolic blood pressure (bottom number), measured in mmHg.                    |\n",
        "| Cholesterol Total                   | Numerical      | Total cholesterol level in mg/dL.                                              |\n",
        "| Cholesterol HDL                     | Numerical      | \"Good\" cholesterol level in mg/dL.                                             |\n",
        "| Cholesterol LDL                     | Numerical      | \"Bad\" cholesterol level in mg/dL.                                              |\n",
        "| GGT (Gamma-Glutamyl Transferase)    | Numerical      | Liver enzyme level indicative of liver function or damage.                     |\n",
        "| Serum Urate                         | Numerical      | Uric acid levels in the blood, measured in mg/dL.                              |\n",
        "| Physical Activity Level             | Categorical    | Level of physical activity (e.g., Low, Moderate, High).                        |\n",
        "| Dietary Intake Calories             | Numerical      | Daily calorie intake in kilocalories.                                          |\n",
        "| Alcohol Consumption                 | Categorical    | Alcohol consumption level (e.g., None, Moderate, Heavy).                       |\n",
        "| Smoking Status                      | Categorical    | Smoking habits (e.g., Never, Former, Current).                                 |\n",
        "| Family History of Diabetes          | Binary (0 or 1)| 1 = Family history present; 0 = No family history of diabetes.                 |\n",
        "| Previous Gestational Diabetes       | Binary (0 or 1)| 1 = History of gestational diabetes; 0 = No history.                           |\n"
      ],
      "metadata": {
        "id": "T8zGXhd75IvB"
      }
    },
    {
      "cell_type": "markdown",
      "source": [
        "Dataset: [https://www.kaggle.com/datasets/marshalpatel3558/diabetes-prediction-dataset](https://www.kaggle.com/datasets/marshalpatel3558/diabetes-prediction-dataset)"
      ],
      "metadata": {
        "id": "NLor4O0H5IvB"
      }
    },
    {
      "cell_type": "markdown",
      "source": [
        "## Importing the necessary Libraries"
      ],
      "metadata": {
        "id": "680Nin_65IvC"
      }
    },
    {
      "cell_type": "code",
      "source": [
        "import pandas as pd\n",
        "import numpy as np\n",
        "import seaborn as sns\n",
        "import matplotlib.pyplot as plt\n",
        "%matplotlib inline\n",
        "import warnings\n",
        "warnings.filterwarnings('ignore')\n",
        "\n",
        "\n",
        "import missingno as msno\n",
        "plt.style.use('fivethirtyeight')"
      ],
      "metadata": {
        "trusted": true,
        "execution": {
          "iopub.status.busy": "2025-04-17T05:52:27.352199Z",
          "iopub.execute_input": "2025-04-17T05:52:27.352505Z",
          "iopub.status.idle": "2025-04-17T05:52:27.358923Z",
          "shell.execute_reply.started": "2025-04-17T05:52:27.352484Z",
          "shell.execute_reply": "2025-04-17T05:52:27.358049Z"
        },
        "id": "VJs8BuO-5IvC"
      },
      "outputs": [],
      "execution_count": null
    },
    {
      "cell_type": "markdown",
      "source": [
        "## Loading the Dataset"
      ],
      "metadata": {
        "id": "UWWue86-5IvC"
      }
    },
    {
      "cell_type": "code",
      "source": [
        "df = pd.read_csv('/kaggle/input/diabetes-prediction-dataset/diabetes_dataset.csv')"
      ],
      "metadata": {
        "trusted": true,
        "execution": {
          "iopub.status.busy": "2025-04-17T05:52:27.360265Z",
          "iopub.execute_input": "2025-04-17T05:52:27.360521Z",
          "iopub.status.idle": "2025-04-17T05:52:27.416984Z",
          "shell.execute_reply.started": "2025-04-17T05:52:27.360501Z",
          "shell.execute_reply": "2025-04-17T05:52:27.416039Z"
        },
        "id": "afDkQw545IvC"
      },
      "outputs": [],
      "execution_count": null
    },
    {
      "cell_type": "markdown",
      "source": [
        "### Exploring the Dataset"
      ],
      "metadata": {
        "id": "xwxLeOSG5IvC"
      }
    },
    {
      "cell_type": "code",
      "source": [
        "df.head()"
      ],
      "metadata": {
        "trusted": true,
        "execution": {
          "iopub.status.busy": "2025-04-17T05:52:27.417948Z",
          "iopub.execute_input": "2025-04-17T05:52:27.418211Z",
          "iopub.status.idle": "2025-04-17T05:52:27.437642Z",
          "shell.execute_reply.started": "2025-04-17T05:52:27.418192Z",
          "shell.execute_reply": "2025-04-17T05:52:27.436646Z"
        },
        "id": "I4InaVI65IvD"
      },
      "outputs": [],
      "execution_count": null
    },
    {
      "cell_type": "code",
      "source": [
        "df.drop(columns='Unnamed: 0', inplace=True)\n"
      ],
      "metadata": {
        "trusted": true,
        "execution": {
          "iopub.status.busy": "2025-04-17T05:52:27.439Z",
          "iopub.execute_input": "2025-04-17T05:52:27.439227Z",
          "iopub.status.idle": "2025-04-17T05:52:27.451652Z",
          "shell.execute_reply.started": "2025-04-17T05:52:27.439204Z",
          "shell.execute_reply": "2025-04-17T05:52:27.450879Z"
        },
        "id": "fzP_fzDi5IvD"
      },
      "outputs": [],
      "execution_count": null
    },
    {
      "cell_type": "code",
      "source": [
        "df.shape"
      ],
      "metadata": {
        "trusted": true,
        "execution": {
          "iopub.status.busy": "2025-04-17T05:52:27.453005Z",
          "iopub.execute_input": "2025-04-17T05:52:27.453281Z",
          "iopub.status.idle": "2025-04-17T05:52:27.465404Z",
          "shell.execute_reply.started": "2025-04-17T05:52:27.453262Z",
          "shell.execute_reply": "2025-04-17T05:52:27.464655Z"
        },
        "id": "qGI6bWTq5IvD"
      },
      "outputs": [],
      "execution_count": null
    },
    {
      "cell_type": "code",
      "source": [
        "df.columns"
      ],
      "metadata": {
        "trusted": true,
        "execution": {
          "iopub.status.busy": "2025-04-17T05:52:27.466125Z",
          "iopub.execute_input": "2025-04-17T05:52:27.466377Z",
          "iopub.status.idle": "2025-04-17T05:52:27.48132Z",
          "shell.execute_reply.started": "2025-04-17T05:52:27.466358Z",
          "shell.execute_reply": "2025-04-17T05:52:27.480632Z"
        },
        "id": "C_H-Zy7q5IvD"
      },
      "outputs": [],
      "execution_count": null
    },
    {
      "cell_type": "markdown",
      "source": [
        "### Creating a new column for the prediction"
      ],
      "metadata": {
        "id": "Iu1XXMRj5IvD"
      }
    },
    {
      "cell_type": "code",
      "source": [
        "df['Outcome'] = ((df['Fasting_Blood_Glucose'] >= 126) | (df['HbA1c'] > 6.5)).astype(int)"
      ],
      "metadata": {
        "trusted": true,
        "execution": {
          "iopub.status.busy": "2025-04-17T05:52:27.482558Z",
          "iopub.execute_input": "2025-04-17T05:52:27.48292Z",
          "iopub.status.idle": "2025-04-17T05:52:27.496631Z",
          "shell.execute_reply.started": "2025-04-17T05:52:27.482895Z",
          "shell.execute_reply": "2025-04-17T05:52:27.495883Z"
        },
        "id": "mYtOr11M5IvD"
      },
      "outputs": [],
      "execution_count": null
    },
    {
      "cell_type": "markdown",
      "source": [
        "### Basic Statistics"
      ],
      "metadata": {
        "id": "cA6WPxSV5IvD"
      }
    },
    {
      "cell_type": "code",
      "source": [
        "# Statsticsl info\n",
        "df.describe().style.background_gradient(cmap = \"Blues\")"
      ],
      "metadata": {
        "trusted": true,
        "execution": {
          "iopub.status.busy": "2025-04-17T05:52:27.497394Z",
          "iopub.execute_input": "2025-04-17T05:52:27.497655Z",
          "iopub.status.idle": "2025-04-17T05:52:27.649802Z",
          "shell.execute_reply.started": "2025-04-17T05:52:27.497635Z",
          "shell.execute_reply": "2025-04-17T05:52:27.648963Z"
        },
        "id": "VFfnUj_Q5IvD"
      },
      "outputs": [],
      "execution_count": null
    },
    {
      "cell_type": "code",
      "source": [
        "# Dtypes info\n",
        "df.info()"
      ],
      "metadata": {
        "trusted": true,
        "execution": {
          "iopub.status.busy": "2025-04-17T05:52:27.651241Z",
          "iopub.execute_input": "2025-04-17T05:52:27.651541Z",
          "iopub.status.idle": "2025-04-17T05:52:27.669849Z",
          "shell.execute_reply.started": "2025-04-17T05:52:27.651523Z",
          "shell.execute_reply": "2025-04-17T05:52:27.669034Z"
        },
        "id": "wjPLVbOF5IvE"
      },
      "outputs": [],
      "execution_count": null
    },
    {
      "cell_type": "code",
      "source": [
        "#Null Values\n",
        "df.isnull().sum()"
      ],
      "metadata": {
        "trusted": true,
        "execution": {
          "iopub.status.busy": "2025-04-17T05:52:27.670615Z",
          "iopub.execute_input": "2025-04-17T05:52:27.670941Z",
          "iopub.status.idle": "2025-04-17T05:52:27.680991Z",
          "shell.execute_reply.started": "2025-04-17T05:52:27.670922Z",
          "shell.execute_reply": "2025-04-17T05:52:27.680115Z"
        },
        "id": "hPfgwLYr5IvE"
      },
      "outputs": [],
      "execution_count": null
    },
    {
      "cell_type": "code",
      "source": [
        "# Returns true for a column having null values, else false\n",
        "df.isnull().any()"
      ],
      "metadata": {
        "trusted": true,
        "execution": {
          "iopub.status.busy": "2025-04-17T05:52:27.681854Z",
          "iopub.execute_input": "2025-04-17T05:52:27.682104Z",
          "iopub.status.idle": "2025-04-17T05:52:27.703862Z",
          "shell.execute_reply.started": "2025-04-17T05:52:27.682087Z",
          "shell.execute_reply": "2025-04-17T05:52:27.703007Z"
        },
        "id": "VRMTXHcj5IvE"
      },
      "outputs": [],
      "execution_count": null
    },
    {
      "cell_type": "markdown",
      "source": [
        "We can see that there is considrable null values in the Alcohol_Consumption."
      ],
      "metadata": {
        "id": "9BNfshwN5IvE"
      }
    },
    {
      "cell_type": "code",
      "source": [
        "(df.isnull().sum() / len(df)) * 100"
      ],
      "metadata": {
        "trusted": true,
        "execution": {
          "iopub.status.busy": "2025-04-17T05:52:27.704739Z",
          "iopub.execute_input": "2025-04-17T05:52:27.705027Z",
          "iopub.status.idle": "2025-04-17T05:52:27.723593Z",
          "shell.execute_reply.started": "2025-04-17T05:52:27.705Z",
          "shell.execute_reply": "2025-04-17T05:52:27.722856Z"
        },
        "id": "kNg8CUMc5IvE"
      },
      "outputs": [],
      "execution_count": null
    },
    {
      "cell_type": "markdown",
      "source": [
        "There is 33 % null values in Alcohol_Consumption."
      ],
      "metadata": {
        "id": "LtYN1Vlu5IvE"
      }
    },
    {
      "cell_type": "code",
      "source": [
        "#Unique Values\n",
        "df.apply(lambda x : len(x.unique()))"
      ],
      "metadata": {
        "trusted": true,
        "execution": {
          "iopub.status.busy": "2025-04-17T05:52:27.725471Z",
          "iopub.execute_input": "2025-04-17T05:52:27.725735Z",
          "iopub.status.idle": "2025-04-17T05:52:27.749742Z",
          "shell.execute_reply.started": "2025-04-17T05:52:27.725712Z",
          "shell.execute_reply": "2025-04-17T05:52:27.748949Z"
        },
        "id": "a5rfcglg5IvE"
      },
      "outputs": [],
      "execution_count": null
    },
    {
      "cell_type": "markdown",
      "source": [
        "### Preprocessing"
      ],
      "metadata": {
        "id": "PN6t28eY5IvE"
      }
    },
    {
      "cell_type": "code",
      "source": [
        "most_common = df['Alcohol_Consumption'].mode()[0]\n",
        "df['Alcohol_Consumption'] = df['Alcohol_Consumption'].apply(lambda x: most_common if pd.isnull(x) else x)"
      ],
      "metadata": {
        "trusted": true,
        "execution": {
          "iopub.status.busy": "2025-04-17T05:52:27.750579Z",
          "iopub.execute_input": "2025-04-17T05:52:27.751138Z",
          "iopub.status.idle": "2025-04-17T05:52:27.767833Z",
          "shell.execute_reply.started": "2025-04-17T05:52:27.751111Z",
          "shell.execute_reply": "2025-04-17T05:52:27.767056Z"
        },
        "id": "3CGTDwvx5IvE"
      },
      "outputs": [],
      "execution_count": null
    },
    {
      "cell_type": "code",
      "source": [
        "df['Age'].value_counts()"
      ],
      "metadata": {
        "trusted": true,
        "execution": {
          "iopub.status.busy": "2025-04-17T05:52:27.768584Z",
          "iopub.execute_input": "2025-04-17T05:52:27.768858Z",
          "iopub.status.idle": "2025-04-17T05:52:27.783421Z",
          "shell.execute_reply.started": "2025-04-17T05:52:27.768839Z",
          "shell.execute_reply": "2025-04-17T05:52:27.782719Z"
        },
        "id": "c13zVFKC5IvE"
      },
      "outputs": [],
      "execution_count": null
    },
    {
      "cell_type": "code",
      "source": [
        "df['Age Group'] = df['Age'].apply(lambda age:\n",
        "    '20-29' if 20 <= age <= 29 else\n",
        "    '30-39' if 30 <= age <= 39 else\n",
        "    '40-49' if 40 <= age <= 49 else\n",
        "    '50-59' if 50 <= age <= 59 else\n",
        "    '60-69' if 60 <= age <= 69 else\n",
        "    '70-79' if 70 <= age <= 79 else\n",
        "    'Under 20' if age < 20 else\n",
        "    '80+')"
      ],
      "metadata": {
        "trusted": true,
        "execution": {
          "iopub.status.busy": "2025-04-17T05:52:27.784329Z",
          "iopub.execute_input": "2025-04-17T05:52:27.784585Z",
          "iopub.status.idle": "2025-04-17T05:52:27.800931Z",
          "shell.execute_reply.started": "2025-04-17T05:52:27.784561Z",
          "shell.execute_reply": "2025-04-17T05:52:27.800057Z"
        },
        "id": "P0gogtvh5IvE"
      },
      "outputs": [],
      "execution_count": null
    },
    {
      "cell_type": "markdown",
      "source": [
        "### Exploratory Data Analysis"
      ],
      "metadata": {
        "id": "pP5yazAb5IvE"
      }
    },
    {
      "cell_type": "code",
      "source": [
        "# Create a Matrix Plot\n",
        "msno.matrix(df)\n",
        "plt.show()"
      ],
      "metadata": {
        "trusted": true,
        "execution": {
          "iopub.status.busy": "2025-04-17T05:52:27.801846Z",
          "iopub.execute_input": "2025-04-17T05:52:27.802556Z",
          "iopub.status.idle": "2025-04-17T05:52:28.554204Z",
          "shell.execute_reply.started": "2025-04-17T05:52:27.802528Z",
          "shell.execute_reply": "2025-04-17T05:52:28.553339Z"
        },
        "id": "fTZfEpx35IvF"
      },
      "outputs": [],
      "execution_count": null
    },
    {
      "cell_type": "markdown",
      "source": [
        "Here we visualized the null values. We have already filled the null values in Alcohol_Consumption"
      ],
      "metadata": {
        "id": "JxtV83jS5IvF"
      }
    },
    {
      "cell_type": "code",
      "source": [
        "df.columns"
      ],
      "metadata": {
        "trusted": true,
        "execution": {
          "iopub.status.busy": "2025-04-17T05:52:28.555154Z",
          "iopub.execute_input": "2025-04-17T05:52:28.555388Z",
          "iopub.status.idle": "2025-04-17T05:52:28.560672Z",
          "shell.execute_reply.started": "2025-04-17T05:52:28.55537Z",
          "shell.execute_reply": "2025-04-17T05:52:28.559938Z"
        },
        "id": "52o78pzH5IvF"
      },
      "outputs": [],
      "execution_count": null
    },
    {
      "cell_type": "code",
      "source": [
        "numeric_cols = df.select_dtypes(include=['int64', 'float64']).columns.tolist()\n",
        "categorical_cols = df.select_dtypes(include=['object', 'category', 'bool']).columns.tolist()"
      ],
      "metadata": {
        "trusted": true,
        "execution": {
          "iopub.status.busy": "2025-04-17T05:52:28.561612Z",
          "iopub.execute_input": "2025-04-17T05:52:28.562114Z",
          "iopub.status.idle": "2025-04-17T05:52:28.577899Z",
          "shell.execute_reply.started": "2025-04-17T05:52:28.562087Z",
          "shell.execute_reply": "2025-04-17T05:52:28.577212Z"
        },
        "id": "S4YUorob5IvF"
      },
      "outputs": [],
      "execution_count": null
    },
    {
      "cell_type": "code",
      "source": [
        "print (numeric_cols)\n",
        "print( categorical_cols)"
      ],
      "metadata": {
        "trusted": true,
        "execution": {
          "iopub.status.busy": "2025-04-17T05:52:28.578597Z",
          "iopub.execute_input": "2025-04-17T05:52:28.578836Z",
          "iopub.status.idle": "2025-04-17T05:52:28.591876Z",
          "shell.execute_reply.started": "2025-04-17T05:52:28.578819Z",
          "shell.execute_reply": "2025-04-17T05:52:28.591056Z"
        },
        "id": "SgOzsD0B5IvF"
      },
      "outputs": [],
      "execution_count": null
    },
    {
      "cell_type": "code",
      "source": [
        "# Create bar plots\n",
        "for col in categorical_cols:\n",
        "    sns.countplot(x=col, data=df)\n",
        "    plt.title(f\"Chart for {col}\")\n",
        "    plt.xticks(rotation=45)\n",
        "    plt.legend()\n",
        "    plt.tight_layout()\n",
        "    plt.show()"
      ],
      "metadata": {
        "trusted": true,
        "execution": {
          "iopub.status.busy": "2025-04-17T05:52:28.592816Z",
          "iopub.execute_input": "2025-04-17T05:52:28.59306Z",
          "iopub.status.idle": "2025-04-17T05:52:29.531893Z",
          "shell.execute_reply.started": "2025-04-17T05:52:28.593035Z",
          "shell.execute_reply": "2025-04-17T05:52:29.531079Z"
        },
        "id": "jgoegDhI5IvQ"
      },
      "outputs": [],
      "execution_count": null
    },
    {
      "cell_type": "code",
      "source": [
        "# Create box plots\n",
        "fig, ax = plt.subplots(ncols=4, nrows=4, figsize=(20, 10))\n",
        "ax = ax.flatten()\n",
        "\n",
        "for index, col in enumerate(numeric_cols):\n",
        "    sns.boxplot(y=col, data=df, ax=ax[index])\n",
        "\n",
        "plt.tight_layout(pad=0.5, w_pad=0.7, h_pad=5.0)\n",
        "plt.show()\n"
      ],
      "metadata": {
        "trusted": true,
        "execution": {
          "iopub.status.busy": "2025-04-17T05:52:29.534637Z",
          "iopub.execute_input": "2025-04-17T05:52:29.534911Z",
          "iopub.status.idle": "2025-04-17T05:52:30.879586Z",
          "shell.execute_reply.started": "2025-04-17T05:52:29.534892Z",
          "shell.execute_reply": "2025-04-17T05:52:30.878733Z"
        },
        "id": "rqYwLVHI5IvQ"
      },
      "outputs": [],
      "execution_count": null
    },
    {
      "cell_type": "code",
      "source": [
        "\n",
        "#Create the Histplot\n",
        "\n",
        "fig, ax = plt.subplots(ncols=4, nrows=3, figsize=(18,12))\n",
        "ax = ax.flatten()\n",
        "index = 0\n",
        "\n",
        "for col, value in df.select_dtypes(include=['int64', 'float64']).items():\n",
        "    if col != 'type':\n",
        "        if index >= len(ax):\n",
        "            break\n",
        "        sns.histplot(value, ax=ax[index], kde=True)\n",
        "        ax[index].set_title(col)\n",
        "        index += 1\n",
        "\n",
        "plt.tight_layout(pad=0.5, w_pad=0.7, h_pad=5.0)"
      ],
      "metadata": {
        "trusted": true,
        "execution": {
          "iopub.status.busy": "2025-04-17T05:52:30.880468Z",
          "iopub.execute_input": "2025-04-17T05:52:30.880718Z",
          "iopub.status.idle": "2025-04-17T05:52:34.837237Z",
          "shell.execute_reply.started": "2025-04-17T05:52:30.880699Z",
          "shell.execute_reply": "2025-04-17T05:52:34.836302Z"
        },
        "id": "j8r_5FCv5IvR"
      },
      "outputs": [],
      "execution_count": null
    },
    {
      "cell_type": "code",
      "source": [
        "sns.barplot(x=df['Ethnicity'], y= df['Fasting_Blood_Glucose'], data=df)\n",
        "plt.title('Ethnicity vs Fasting_Blood_Glucose')\n",
        "plt.xticks(rotation=45)\n",
        "plt.legend()\n",
        "plt.tight_layout()\n",
        "plt.show()"
      ],
      "metadata": {
        "trusted": true,
        "execution": {
          "iopub.status.busy": "2025-04-17T05:52:34.838101Z",
          "iopub.execute_input": "2025-04-17T05:52:34.838342Z",
          "iopub.status.idle": "2025-04-17T05:52:35.177253Z",
          "shell.execute_reply.started": "2025-04-17T05:52:34.838324Z",
          "shell.execute_reply": "2025-04-17T05:52:35.17653Z"
        },
        "id": "A6lq9o7S5IvR"
      },
      "outputs": [],
      "execution_count": null
    },
    {
      "cell_type": "code",
      "source": [
        "sns.barplot(x=df['Sex'], y= df['Fasting_Blood_Glucose'], data=df)\n",
        "plt.title('Sex vs Fasting_Blood_Glucose')\n",
        "plt.xticks(rotation=45)\n",
        "plt.legend()\n",
        "plt.tight_layout()\n",
        "plt.show()"
      ],
      "metadata": {
        "trusted": true,
        "execution": {
          "iopub.status.busy": "2025-04-17T05:52:35.1783Z",
          "iopub.execute_input": "2025-04-17T05:52:35.178595Z",
          "iopub.status.idle": "2025-04-17T05:52:35.463582Z",
          "shell.execute_reply.started": "2025-04-17T05:52:35.178575Z",
          "shell.execute_reply": "2025-04-17T05:52:35.462738Z"
        },
        "id": "L2igomun5IvR"
      },
      "outputs": [],
      "execution_count": null
    },
    {
      "cell_type": "code",
      "source": [
        "grouped_df = df.groupby('Age Group')['Fasting_Blood_Glucose'].mean().reset_index()\n",
        "\n",
        "age_order = ['Under 20', '20-29', '30-39', '40-49', '50-59', '60-69', '70-79', '80+']\n",
        "grouped_df['Age Group'] = pd.Categorical(grouped_df['Age Group'], categories=age_order, ordered=True)\n",
        "grouped_df = grouped_df.sort_values('Age Group')\n",
        "\n",
        "sns.barplot(x='Age Group', y='Fasting_Blood_Glucose', data=grouped_df)\n",
        "plt.title('Age Group vs Average Fasting Blood Glucose')\n",
        "plt.xticks(rotation=45)\n",
        "plt.tight_layout()\n",
        "plt.show()"
      ],
      "metadata": {
        "trusted": true,
        "execution": {
          "iopub.status.busy": "2025-04-17T05:52:35.464831Z",
          "iopub.execute_input": "2025-04-17T05:52:35.465074Z",
          "iopub.status.idle": "2025-04-17T05:52:35.666994Z",
          "shell.execute_reply.started": "2025-04-17T05:52:35.465055Z",
          "shell.execute_reply": "2025-04-17T05:52:35.6663Z"
        },
        "id": "RNCA8NIK5IvR"
      },
      "outputs": [],
      "execution_count": null
    },
    {
      "cell_type": "markdown",
      "source": [
        "### Coorelation Matrix"
      ],
      "metadata": {
        "id": "xLguy_vr5IvR"
      }
    },
    {
      "cell_type": "code",
      "source": [
        "corr = df.corr(numeric_only= True )\n",
        "plt.figure(figsize=(16,12))\n",
        "sns.heatmap(corr,annot=True, cmap='coolwarm')"
      ],
      "metadata": {
        "trusted": true,
        "execution": {
          "iopub.status.busy": "2025-04-17T05:52:35.667976Z",
          "iopub.execute_input": "2025-04-17T05:52:35.668242Z",
          "iopub.status.idle": "2025-04-17T05:52:36.920735Z",
          "shell.execute_reply.started": "2025-04-17T05:52:35.668216Z",
          "shell.execute_reply": "2025-04-17T05:52:36.919906Z"
        },
        "id": "wfN3ldNR5IvR"
      },
      "outputs": [],
      "execution_count": null
    },
    {
      "cell_type": "code",
      "source": [
        "from sklearn.preprocessing import LabelEncoder\n",
        "le = LabelEncoder()\n",
        "\n",
        "for col in categorical_cols:\n",
        "    df[col] = le.fit_transform(df[col])"
      ],
      "metadata": {
        "trusted": true,
        "execution": {
          "iopub.status.busy": "2025-04-17T05:52:36.921728Z",
          "iopub.execute_input": "2025-04-17T05:52:36.922033Z",
          "iopub.status.idle": "2025-04-17T05:52:37.093743Z",
          "shell.execute_reply.started": "2025-04-17T05:52:36.922008Z",
          "shell.execute_reply": "2025-04-17T05:52:37.093099Z"
        },
        "id": "VPVQ1MHR5IvR"
      },
      "outputs": [],
      "execution_count": null
    },
    {
      "cell_type": "markdown",
      "source": [
        "# Input Split"
      ],
      "metadata": {
        "id": "7-0Y8Bes5IvR"
      }
    },
    {
      "cell_type": "code",
      "source": [
        "df =df.copy()\n",
        "\n",
        "y = df['Outcome']\n",
        "\n",
        "X = df.drop('Outcome', axis=1)"
      ],
      "metadata": {
        "trusted": true,
        "execution": {
          "iopub.status.busy": "2025-04-17T05:52:37.094492Z",
          "iopub.execute_input": "2025-04-17T05:52:37.094713Z",
          "iopub.status.idle": "2025-04-17T05:52:37.101361Z",
          "shell.execute_reply.started": "2025-04-17T05:52:37.094697Z",
          "shell.execute_reply": "2025-04-17T05:52:37.100508Z"
        },
        "id": "RLAk5xwg5IvR"
      },
      "outputs": [],
      "execution_count": null
    },
    {
      "cell_type": "markdown",
      "source": [
        "## Model Building"
      ],
      "metadata": {
        "id": "lLx2a9EH5IvS"
      }
    },
    {
      "cell_type": "code",
      "source": [
        "# Classify function\n",
        "from sklearn.model_selection import train_test_split, cross_val_score\n",
        "from sklearn.metrics import f1_score\n",
        "from sklearn.preprocessing import StandardScaler\n",
        "from sklearn.metrics import classification_report\n",
        "\n",
        "def classify(model, X, y):\n",
        "    X_tr, X_te, y_tr, y_te = train_test_split(X, y, test_size=0.30, random_state=42)\n",
        "\n",
        "    # Scale\n",
        "    sc = StandardScaler()\n",
        "    X_tr = sc.fit_transform(X_tr)\n",
        "    X_te = sc.transform(X_te)\n",
        "\n",
        "    # Train model\n",
        "    model.fit(X_tr, y_tr)\n",
        "    y_pred = model.predict(X_te)\n",
        "\n",
        "    print(\"Test Accuracy:\", model.score(X_te, y_te) * 100)\n",
        "    print(\"Classification Report:\\n\", classification_report(y_te, y_pred))\n",
        "\n",
        "    # Cross-validation\n",
        "    X_scaled = sc.fit_transform(X)\n",
        "    acc_scores = cross_val_score(model, X_scaled, y, cv=5)\n",
        "    print(\"CV Accuracy Score:\", np.mean(acc_scores) * 100)\n",
        "\n",
        "    f1_scores = cross_val_score(model, X_scaled, y, cv=5, scoring='f1_macro')\n",
        "    print(\"F1 Macro Score:\", np.mean(f1_scores))\n"
      ],
      "metadata": {
        "trusted": true,
        "execution": {
          "iopub.status.busy": "2025-04-17T05:52:37.102228Z",
          "iopub.execute_input": "2025-04-17T05:52:37.102515Z",
          "iopub.status.idle": "2025-04-17T05:52:37.209831Z",
          "shell.execute_reply.started": "2025-04-17T05:52:37.102489Z",
          "shell.execute_reply": "2025-04-17T05:52:37.209173Z"
        },
        "id": "ie2HWo4d5IvS"
      },
      "outputs": [],
      "execution_count": null
    },
    {
      "cell_type": "code",
      "source": [
        "# Logistic Regression\n",
        "from sklearn.linear_model import LogisticRegression\n",
        "model = LogisticRegression()\n",
        "classify(model, X, y)"
      ],
      "metadata": {
        "trusted": true,
        "execution": {
          "iopub.status.busy": "2025-04-17T05:52:37.211257Z",
          "iopub.execute_input": "2025-04-17T05:52:37.211554Z",
          "iopub.status.idle": "2025-04-17T05:52:38.495428Z",
          "shell.execute_reply.started": "2025-04-17T05:52:37.211527Z",
          "shell.execute_reply": "2025-04-17T05:52:38.494723Z"
        },
        "id": "hrW-sHVS5IvS"
      },
      "outputs": [],
      "execution_count": null
    },
    {
      "cell_type": "code",
      "source": [
        "# Decision Tree\n",
        "from sklearn.tree import DecisionTreeClassifier\n",
        "model = DecisionTreeClassifier()\n",
        "classify(model, X, y)"
      ],
      "metadata": {
        "trusted": true,
        "execution": {
          "iopub.status.busy": "2025-04-17T05:52:38.496071Z",
          "iopub.execute_input": "2025-04-17T05:52:38.496317Z",
          "iopub.status.idle": "2025-04-17T05:52:38.861631Z",
          "shell.execute_reply.started": "2025-04-17T05:52:38.496296Z",
          "shell.execute_reply": "2025-04-17T05:52:38.860588Z"
        },
        "id": "vvBUMiPm5IvS"
      },
      "outputs": [],
      "execution_count": null
    },
    {
      "cell_type": "code",
      "source": [
        "# Random Forest\n",
        "from sklearn.ensemble import RandomForestClassifier\n",
        "model = RandomForestClassifier()\n",
        "classify(model, X, y)"
      ],
      "metadata": {
        "trusted": true,
        "execution": {
          "iopub.status.busy": "2025-04-17T05:52:38.863156Z",
          "iopub.execute_input": "2025-04-17T05:52:38.863859Z",
          "iopub.status.idle": "2025-04-17T05:52:47.218879Z",
          "shell.execute_reply.started": "2025-04-17T05:52:38.863835Z",
          "shell.execute_reply": "2025-04-17T05:52:47.217895Z"
        },
        "id": "J4WIbaZo5IvS"
      },
      "outputs": [],
      "execution_count": null
    },
    {
      "cell_type": "code",
      "source": [
        "# Extra Tree\n",
        "from sklearn.ensemble import ExtraTreesClassifier\n",
        "model = ExtraTreesClassifier()\n",
        "classify(model, X, y)"
      ],
      "metadata": {
        "trusted": true,
        "execution": {
          "iopub.status.busy": "2025-04-17T05:52:47.219576Z",
          "iopub.execute_input": "2025-04-17T05:52:47.219883Z",
          "iopub.status.idle": "2025-04-17T05:52:53.704121Z",
          "shell.execute_reply.started": "2025-04-17T05:52:47.219858Z",
          "shell.execute_reply": "2025-04-17T05:52:53.7033Z"
        },
        "id": "QCF_fjWq5IvS"
      },
      "outputs": [],
      "execution_count": null
    },
    {
      "cell_type": "code",
      "source": [
        "# xgb\n",
        "import xgboost as xgb\n",
        "model = xgb.XGBClassifier()\n",
        "classify(model, X, y)"
      ],
      "metadata": {
        "trusted": true,
        "execution": {
          "iopub.status.busy": "2025-04-17T05:56:45.432435Z",
          "iopub.execute_input": "2025-04-17T05:56:45.432763Z",
          "iopub.status.idle": "2025-04-17T05:56:46.781253Z",
          "shell.execute_reply.started": "2025-04-17T05:56:45.43274Z",
          "shell.execute_reply": "2025-04-17T05:56:46.780006Z"
        },
        "id": "NIwvEper5IvS"
      },
      "outputs": [],
      "execution_count": null
    },
    {
      "cell_type": "code",
      "source": [
        "#lgbm\n",
        "import lightgbm\n",
        "model = lightgbm.LGBMClassifier()\n",
        "classify(model, X, y)"
      ],
      "metadata": {
        "trusted": true,
        "execution": {
          "iopub.status.busy": "2025-04-17T05:56:50.156816Z",
          "iopub.execute_input": "2025-04-17T05:56:50.157124Z",
          "iopub.status.idle": "2025-04-17T05:56:56.964856Z",
          "shell.execute_reply.started": "2025-04-17T05:56:50.157105Z",
          "shell.execute_reply": "2025-04-17T05:56:56.963955Z"
        },
        "id": "ccHCefuZ5IvS"
      },
      "outputs": [],
      "execution_count": null
    }
  ]
}